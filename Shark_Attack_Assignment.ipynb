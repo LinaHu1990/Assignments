{
  "nbformat": 4,
  "nbformat_minor": 0,
  "metadata": {
    "colab": {
      "provenance": [],
      "authorship_tag": "ABX9TyMieiom92L7THLhyiUZjJd0",
      "include_colab_link": true
    },
    "kernelspec": {
      "name": "python3",
      "display_name": "Python 3"
    },
    "language_info": {
      "name": "python"
    }
  },
  "cells": [
    {
      "cell_type": "markdown",
      "metadata": {
        "id": "view-in-github",
        "colab_type": "text"
      },
      "source": [
        "<a href=\"https://colab.research.google.com/github/LinaHu1990/Assignments/blob/main/Shark_Attack_Assignment.ipynb\" target=\"_parent\"><img src=\"https://colab.research.google.com/assets/colab-badge.svg\" alt=\"Open In Colab\"/></a>"
      ]
    },
    {
      "cell_type": "code",
      "execution_count": 12,
      "metadata": {
        "id": "tDALTrFbSQTG",
        "colab": {
          "base_uri": "https://localhost:8080/"
        },
        "outputId": "036511eb-e314-4012-8903-d7452a513efd"
      },
      "outputs": [
        {
          "output_type": "stream",
          "name": "stdout",
          "text": [
            "Surfing                                   971\n",
            "Swimming                                  869\n",
            "Fishing                                   431\n",
            "Spearfishing                              333\n",
            "Bathing                                   162\n",
            "                                         ... \n",
            "Playing with a frisbee in the shallows      1\n",
            "Sinking of the ferryboat Dumaguete          1\n",
            "Wreck of the Storm King                     1\n",
            "Feeding mullet to sharks                    1\n",
            "Wreck of  large double sailing canoe        1\n",
            "Name: Activity, Length: 1532, dtype: int64\n"
          ]
        }
      ],
      "source": [
        "import numpy as np\n",
        "import pandas as pd\n",
        "import matplotlib.pyplot as plt\n",
        "\n",
        "\n",
        "# Questions to be answered \n",
        "# 1 What are the most dangerous types of sharks to humans?  \n",
        "# White Shark\n",
        "# 2 Are children more likely to be attacked by sharks? \n",
        "# Result provides that children are not more likely to attacked by sharks. As more adults (Age>18) have been attacked\n",
        "# 3 Are shark attacks where sharks were provoked more or less dangerous? \n",
        "# No result shows that cases were sharks were provoked didn't result in more fatalities \n",
        "# 4 Are certain activities more likely to result in a shark attack? \n",
        "# Surfing and swimming occur as most frequent activities with a shark attack\n",
        "\n",
        "url = \"https://github.com/LinaHu1990/Assignments/raw/main/attacks.csv\"\n",
        "col_names = [\"CaseID\", \"Date\", \"Year\", \"Type\",\"Country\", \"Area\", \"Location\", \"Activity\", \"Name\", \"Sex\", \"Age\", \"Injury\", \"Fatal\", \"Time\", \"Species\", \"1\", \"2\", \"3\", \"4\", \"5\", \"6\", \"7\", \"8\", \"9\"]\n",
        "url = pd.read_csv('https://raw.githubusercontent.com/LinaHu1990/Assignments/main/attacks.csv', names = col_names, encoding = \"ISO-8859-1\")\n",
        "df = pd.DataFrame(url)\n",
        "\n",
        "#identify number of rows and columns \n",
        "#Result gives 25723 rows and 24 columns\n",
        "#remove unnecessary columns\n",
        "#columns that are irrelevant to answer the questions (number 1-9)\n",
        "\n",
        "df4 = df.drop(columns=[\"1\", \"2\", \"3\", \"4\", \"5\", \"6\", \"7\", \"8\", \"9\"]) \n",
        "\n",
        "#remove 1st row as headers are provided\n",
        "df2 = df4.iloc[1:] \n",
        "\n",
        "#Identify and delete rows where all values in column \"Species\"are NAN \n",
        "# 3465 rows left\n",
        "\n",
        "df1 = df2.dropna(subset=[\"Species\"],how=\"all\")\n",
        "\n",
        "#Question 1 What are the most dangerous types of sharks to humans?  \n",
        "\n",
        "#Explore data values in column \"Species\"\n",
        "Species = df2[\"Species\"].value_counts()\n",
        "\n",
        "#print(species)\n",
        "#Answer to Question 1: 163x white Shark \n",
        "\n",
        "# Question 2 Are children more likely to be attacked by sharks? \n",
        "# Children age <18 \n",
        "# Identify and delete rows where all values in column \"Age\"are NAN \n",
        "# 3472 rows left\n",
        "\n",
        "dfQ2 = df2.dropna(subset=[\"Age\"],how=\"all\")\n",
        "\n",
        "# 57 rows are not a number \n",
        "# Convert rows to numbers \n",
        "\n",
        "Age = pd.to_numeric(dfQ2[\"Age\"], errors = \"coerce\")\n",
        "count_age_ht_18 = Age[Age > 18].count()\n",
        "#print(count_age_ht_18)\n",
        "\n",
        "#905 cases where age < 18 \n",
        "#2314 cases where age > 18 \n",
        "\n",
        "#Answer to Question 2: result provides that children are not more likely to attacked by sharks. As more adults (Age>18) have been attacked\n",
        "\n",
        "# Question 3 Are shark attacks where sharks were provoked more or less dangerous? \n",
        "\n",
        "# Identify and delete rows where all values in column \"Type\"are NAN \n",
        "#6298 rows left\n",
        "\n",
        "dfQ3 = df2.dropna(subset=[\"Type\"],how=\"all\")\n",
        "\n",
        "# Identify how many cases by \"Type\" show \"Provoked\"\n",
        "# Result shows for \"Type = Provoked\" 19 out of 565 cases were fatal\n",
        "# Vs 1180 out of 3345+1180 for \"Type = Unprovoked\"\n",
        "\n",
        "group = dfQ3.groupby([\"Type\"])[\"Fatal\"].value_counts()\n",
        "\n",
        "#print(group)\n",
        "\n",
        "# Answer to Question 3: no result shows that cases were sharks were provoked didn't result in more fatalities \n",
        "\n",
        "# 4 Are certain activities more likely to result in a shark attack? \n",
        "\n",
        "# Identify and delete rows where all values in column \"Activity\"are NAN \n",
        "#6298 rows left\n",
        "\n",
        "dfQ4 = df2.dropna(subset=[\"Activity\"],how=\"all\")\n",
        "\n",
        "activities = dfQ4[\"Activity\"].value_counts()\n",
        "#print(activities)\n",
        "\n",
        "#Answer to Question 4: surfing and swimming occur as most frequent activities with a shark attack\n",
        "\n",
        "\n",
        "\n",
        "\n",
        "\n",
        "\n",
        "\n",
        "\n",
        "\n"
      ]
    },
    {
      "cell_type": "code",
      "source": [
        "\n",
        "\n"
      ],
      "metadata": {
        "id": "u02jzaKBEMJS"
      },
      "execution_count": null,
      "outputs": []
    },
    {
      "cell_type": "code",
      "source": [],
      "metadata": {
        "id": "MIpSNrm9EMof"
      },
      "execution_count": null,
      "outputs": []
    },
    {
      "cell_type": "code",
      "source": [],
      "metadata": {
        "id": "WTAqE58e52Tv"
      },
      "execution_count": null,
      "outputs": []
    },
    {
      "cell_type": "code",
      "source": [],
      "metadata": {
        "id": "1lLDmhGg52n7"
      },
      "execution_count": null,
      "outputs": []
    },
    {
      "cell_type": "code",
      "source": [
        "   "
      ],
      "metadata": {
        "id": "1LXZn-Eu3Khn"
      },
      "execution_count": null,
      "outputs": []
    },
    {
      "cell_type": "code",
      "source": [],
      "metadata": {
        "id": "pteThRTR8bXc"
      },
      "execution_count": null,
      "outputs": []
    }
  ]
}