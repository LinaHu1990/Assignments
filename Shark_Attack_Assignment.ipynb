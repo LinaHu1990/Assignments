{
  "nbformat": 4,
  "nbformat_minor": 0,
  "metadata": {
    "colab": {
      "provenance": [],
      "authorship_tag": "ABX9TyNvn1qtJuSiuE5l/p+9Sxew",
      "include_colab_link": true
    },
    "kernelspec": {
      "name": "python3",
      "display_name": "Python 3"
    },
    "language_info": {
      "name": "python"
    }
  },
  "cells": [
    {
      "cell_type": "markdown",
      "metadata": {
        "id": "view-in-github",
        "colab_type": "text"
      },
      "source": [
        "<a href=\"https://colab.research.google.com/github/LinaHu1990/Assignments/blob/main/Shark_Attack_Assignment.ipynb\" target=\"_parent\"><img src=\"https://colab.research.google.com/assets/colab-badge.svg\" alt=\"Open In Colab\"/></a>"
      ]
    },
    {
      "cell_type": "code",
      "execution_count": 31,
      "metadata": {
        "id": "tDALTrFbSQTG",
        "colab": {
          "base_uri": "https://localhost:8080/"
        },
        "outputId": "fe734b43-642d-45d8-f2f4-e162edbe0dec"
      },
      "outputs": [
        {
          "output_type": "stream",
          "name": "stdout",
          "text": [
            "<pandas.core.groupby.generic.DataFrameGroupBy object at 0x7fda1781ba30>\n"
          ]
        }
      ],
      "source": [
        "import numpy as np\n",
        "import pandas as pd\n",
        "import matplotlib.pyplot as plt\n",
        "\n",
        "\n",
        "# Questions to be answered \n",
        "# 1 What are the most dangerous types of sharks to humans?  \n",
        "# White Shark\n",
        "# 2 Are children more likely to be attacked by sharks? \n",
        "# 3 Are shark attacks where sharks were provoked more or less dangerous? \n",
        "# 4 Are certain activities more likely to result in a shark attack? \n",
        "\n",
        "url = \"https://github.com/LinaHu1990/Assignments/raw/main/attacks.csv\"\n",
        "col_names = [\"CaseID\", \"Date\", \"Year\", \"Type\",\"Country\", \"Area\", \"Location\", \"Activity\", \"Name\", \"Sex\", \"Age\", \"Injury\", \"Fatal\", \"Time\", \"Species\", \"1\", \"2\", \"3\", \"4\", \"5\", \"6\", \"7\", \"8\", \"9\"]\n",
        "url = pd.read_csv('https://raw.githubusercontent.com/LinaHu1990/Assignments/main/attacks.csv', names = col_names, encoding = \"ISO-8859-1\")\n",
        "df = pd.DataFrame(url)\n",
        "\n",
        "#identify number of rows and columns \n",
        "#Result gives 25723 rows and 24 columns\n",
        "#remove unnecessary columns\n",
        "#columns that are irrelevant to answer the questions (number 1-9)\n",
        "\n",
        "df4 = df.drop(columns=[\"1\", \"2\", \"3\", \"4\", \"5\", \"6\", \"7\", \"8\", \"9\"]) \n",
        "\n",
        "#remove 1st row as headers are provided\n",
        "df2 = df4.iloc[1:] \n",
        "\n",
        "#Identify and delete rows where all values in column \"Species\"are NAN \n",
        "# 3465 rows left\n",
        "\n",
        "df1 = df2.dropna(subset=[\"Species\"],how=\"all\")\n",
        "\n",
        "#Question 1 What are the most dangerous types of sharks to humans?  \n",
        "\n",
        "#Explore data values in column \"Species\"\n",
        "Species = df2[\"Species\"].value_counts()\n",
        "\n",
        "#print(species)\n",
        "#Answer to Question 1: 163x white Shark \n",
        "\n",
        "# Question 2 Are children more likely to be attacked by sharks? \n",
        "# Children age <18 \n",
        "# Identify and delete rows where all values in column \"Age\"are NAN \n",
        "# 3472 rows left\n",
        "\n",
        "dfQ2 = df2.dropna(subset=[\"Age\"],how=\"all\")\n",
        "\n",
        "# 57 rows are not a number \n",
        "# Convert rows to numbers \n",
        "\n",
        "Age = pd.to_numeric(dfQ2[\"Age\"], errors = \"coerce\")\n",
        "count_age_ht_18 = Age[Age > 18].count()\n",
        "#print(count_age_ht_18)\n",
        "\n",
        "#905 cases where age < 18 \n",
        "#2314 cases where age > 18 \n",
        "\n",
        "#Answer to Question 2: result provides that children are not more likely to attacked by sharks. As more adults (Age>18) have been attacked\n",
        "\n",
        "# Question 3 Are shark attacks where sharks were provoked more or less dangerous? \n",
        "\n",
        "# Identify and delete rows where all values in column \"Type\"are NAN \n",
        "#6298 rows left\n",
        "\n",
        "dfQ3 = df2.dropna(subset=[\"Type\"],how=\"all\")\n",
        "\n",
        "#identify how many cases \"Type\" shows \"Provoked\"\n",
        "#574 rows contain \"Provoked\"\n",
        "contains_provoked = dfQ3[\"Type\"].astype(str).str.contains(\"Provoked\").value_counts()\n",
        "\n",
        "group = dfQ3.groupby([\"Type\"])[\"Fatal\"].count()\n",
        "\n",
        "print(Group)\n",
        "\n",
        "\n",
        "\n",
        "\n",
        "\n",
        "\n",
        "\n",
        "\n",
        "\n",
        "\n",
        "\n",
        "\n",
        "\n",
        " \n",
        "\n",
        "#count number unique values ID = df3.loc[:,\"CaseID\"].nunique()\n",
        "# count empty values df.loc[:,'datetime'].isnull().sum()\n",
        "# find unique values in column df3.loc[:,\"Type\"].unique()\n",
        "#new_column_names = [\"Case ID\", \"Date\", \"Year\", \"Type\", \"Country\", \"place\", \"card\"]\n",
        "#df1 = df.set_index(\"Case Number\")\n",
        "#df.drop(columns=[\"date\"])\n",
        "#df.columns = new_column_names\n",
        "#df.drop(columns=['city','number_of_products','discount_card_used']) \n",
        "# pd.set_option('display.max_rows', 20)\n",
        "# pd.set_option('display.min_rows', 20)\n",
        "# pd.set_option('display.max_columns', 5)\n",
        "# albums2 = albums.set_index(\"Album\")\n",
        "# display(albums2.sort_index())\n",
        "# df.columns = new_column_names\n",
        "# casting column to datatype df.loc[:,'total_amount'].astype('float')\n",
        "# count frequency df.loc[:,'time_spent'].value_counts()\n",
        "#df2 = df.loc[:, ~df.columns.str.contains('^Unnamed')]\n",
        "# find row that contain_values = df[df['month'].str.contains('Ju')]\n",
        "# head() and tail(): These functions allow you to inspect the first few rows (head()) or the last few rows (tail()) of your dataframe. They can give you a quick overview of the data.\n",
        "# shape: This attribute provides the dimensions of the dataframe, indicating the number of rows and columns.\n",
        "# info(): This method provides a summary of the dataframe, including the column names, data types, and non-null values. It can be useful for understanding the structure and completeness of your data.\n",
        "# describe(): This method generates descriptive statistics for each numerical column in the dataframe, such as count, mean, standard deviation, minimum, and maximum values. It helps to get a sense of the distribution and basic statistics of the data.\n",
        "# columns: This attribute returns a list of column names in the dataframe.\n",
        "# dtypes: This attribute provides the data types of each column in the dataframe.\n",
        "# isnull(): This method returns a boolean dataframe indicating which values are null or missing in the original dataframe. It can be useful for identifying missing data.\n",
        "# value_counts(): This method calculates the frequency of unique values in a specific column. It is handy for understanding the distribution of categorical variables.\n",
        "# groupby(): This method allows you to group the dataframe by one or more columns and perform aggregate functions, such as sum, mean, count, etc., on the grouped data.\n",
        "# en dit is hoe de string contain functie werkt! Je mag natuurlijk ook andere functies gebruiken\n",
        "# Maak een voorbeeld-dataframe\n",
        "#data = {'Animal': ['cat', 'dog', 'elephant', 'tiger', 'lion'],\n",
        "#        'Color': ['black', 'brown', 'gray', 'yellow', 'brown']}\n",
        "#df = pd.DataFrame(data)\n",
        "# Controleren of een string voorkomt in de Animal-kolom\n",
        "# contains_cat = df['Animal'].str.contains('cat')\n",
        "#def shark_type():\n",
        "#  for values in Species:\n",
        "#    values = values.split(\" \")\n",
        "#    if len(values) == 2: \n",
        "#      print(values)\n",
        "#shark_type()\n",
        "\n",
        "\n",
        "\n",
        "\n",
        "\n",
        "\n",
        "\n"
      ]
    },
    {
      "cell_type": "code",
      "source": [
        "\n"
      ],
      "metadata": {
        "id": "u02jzaKBEMJS"
      },
      "execution_count": null,
      "outputs": []
    },
    {
      "cell_type": "code",
      "source": [],
      "metadata": {
        "id": "MIpSNrm9EMof"
      },
      "execution_count": null,
      "outputs": []
    },
    {
      "cell_type": "code",
      "source": [],
      "metadata": {
        "id": "WTAqE58e52Tv"
      },
      "execution_count": null,
      "outputs": []
    },
    {
      "cell_type": "code",
      "source": [],
      "metadata": {
        "id": "1lLDmhGg52n7"
      },
      "execution_count": null,
      "outputs": []
    },
    {
      "cell_type": "code",
      "source": [
        "   "
      ],
      "metadata": {
        "id": "1LXZn-Eu3Khn"
      },
      "execution_count": null,
      "outputs": []
    },
    {
      "cell_type": "code",
      "source": [],
      "metadata": {
        "id": "pteThRTR8bXc"
      },
      "execution_count": null,
      "outputs": []
    }
  ]
}