{
  "nbformat": 4,
  "nbformat_minor": 0,
  "metadata": {
    "colab": {
      "provenance": [],
      "authorship_tag": "ABX9TyN1NZxZuFzMayU5CX1XSjLH",
      "include_colab_link": true
    },
    "kernelspec": {
      "name": "python3",
      "display_name": "Python 3"
    },
    "language_info": {
      "name": "python"
    }
  },
  "cells": [
    {
      "cell_type": "markdown",
      "metadata": {
        "id": "view-in-github",
        "colab_type": "text"
      },
      "source": [
        "<a href=\"https://colab.research.google.com/github/LinaHu1990/Assignments/blob/main/Shark_Attack_Assignment.ipynb\" target=\"_parent\"><img src=\"https://colab.research.google.com/assets/colab-badge.svg\" alt=\"Open In Colab\"/></a>"
      ]
    },
    {
      "cell_type": "code",
      "execution_count": 46,
      "metadata": {
        "id": "tDALTrFbSQTG",
        "colab": {
          "base_uri": "https://localhost:8080/",
          "height": 467
        },
        "outputId": "a899a19d-02f7-4a51-a2ed-0a470d124a9e"
      },
      "outputs": [
        {
          "output_type": "error",
          "ename": "KeyError",
          "evalue": "ignored",
          "traceback": [
            "\u001b[0;31m---------------------------------------------------------------------------\u001b[0m",
            "\u001b[0;31mKeyError\u001b[0m                                  Traceback (most recent call last)",
            "\u001b[0;32m/usr/local/lib/python3.10/dist-packages/pandas/core/indexes/base.py\u001b[0m in \u001b[0;36mget_loc\u001b[0;34m(self, key, method, tolerance)\u001b[0m\n\u001b[1;32m   3801\u001b[0m             \u001b[0;32mtry\u001b[0m\u001b[0;34m:\u001b[0m\u001b[0;34m\u001b[0m\u001b[0;34m\u001b[0m\u001b[0m\n\u001b[0;32m-> 3802\u001b[0;31m                 \u001b[0;32mreturn\u001b[0m \u001b[0mself\u001b[0m\u001b[0;34m.\u001b[0m\u001b[0m_engine\u001b[0m\u001b[0;34m.\u001b[0m\u001b[0mget_loc\u001b[0m\u001b[0;34m(\u001b[0m\u001b[0mcasted_key\u001b[0m\u001b[0;34m)\u001b[0m\u001b[0;34m\u001b[0m\u001b[0;34m\u001b[0m\u001b[0m\n\u001b[0m\u001b[1;32m   3803\u001b[0m             \u001b[0;32mexcept\u001b[0m \u001b[0mKeyError\u001b[0m \u001b[0;32mas\u001b[0m \u001b[0merr\u001b[0m\u001b[0;34m:\u001b[0m\u001b[0;34m\u001b[0m\u001b[0;34m\u001b[0m\u001b[0m\n",
            "\u001b[0;32m/usr/local/lib/python3.10/dist-packages/pandas/_libs/index.pyx\u001b[0m in \u001b[0;36mpandas._libs.index.IndexEngine.get_loc\u001b[0;34m()\u001b[0m\n",
            "\u001b[0;32m/usr/local/lib/python3.10/dist-packages/pandas/_libs/index.pyx\u001b[0m in \u001b[0;36mpandas._libs.index.IndexEngine.get_loc\u001b[0;34m()\u001b[0m\n",
            "\u001b[0;32mpandas/_libs/index_class_helper.pxi\u001b[0m in \u001b[0;36mpandas._libs.index.Int64Engine._check_type\u001b[0;34m()\u001b[0m\n",
            "\u001b[0;31mKeyError\u001b[0m: 'Age'",
            "\nThe above exception was the direct cause of the following exception:\n",
            "\u001b[0;31mKeyError\u001b[0m                                  Traceback (most recent call last)",
            "\u001b[0;32m<ipython-input-46-56aa83ba3a78>\u001b[0m in \u001b[0;36m<cell line: 62>\u001b[0;34m()\u001b[0m\n\u001b[1;32m     60\u001b[0m \u001b[0mnon_numeric_values\u001b[0m \u001b[0;34m=\u001b[0m \u001b[0mAge\u001b[0m\u001b[0;34m[\u001b[0m\u001b[0;34m~\u001b[0m\u001b[0mAge\u001b[0m\u001b[0;34m.\u001b[0m\u001b[0mnotna\u001b[0m\u001b[0;34m(\u001b[0m\u001b[0;34m)\u001b[0m\u001b[0;34m]\u001b[0m\u001b[0;34m\u001b[0m\u001b[0;34m\u001b[0m\u001b[0m\n\u001b[1;32m     61\u001b[0m \u001b[0;34m\u001b[0m\u001b[0m\n\u001b[0;32m---> 62\u001b[0;31m \u001b[0mprint\u001b[0m\u001b[0;34m(\u001b[0m\u001b[0mnon_numeric_values\u001b[0m\u001b[0;34m[\u001b[0m\u001b[0;34m'Age'\u001b[0m\u001b[0;34m]\u001b[0m\u001b[0;34m.\u001b[0m\u001b[0munique\u001b[0m\u001b[0;34m(\u001b[0m\u001b[0;34m)\u001b[0m\u001b[0;34m)\u001b[0m\u001b[0;34m\u001b[0m\u001b[0;34m\u001b[0m\u001b[0m\n\u001b[0m\u001b[1;32m     63\u001b[0m \u001b[0;34m\u001b[0m\u001b[0m\n\u001b[1;32m     64\u001b[0m \u001b[0mcount_age_lt_18\u001b[0m \u001b[0;34m=\u001b[0m \u001b[0mAge\u001b[0m\u001b[0;34m[\u001b[0m\u001b[0mAge\u001b[0m\u001b[0;34m<\u001b[0m \u001b[0;36m18\u001b[0m\u001b[0;34m]\u001b[0m\u001b[0;34m[\u001b[0m\u001b[0;34m'Age'\u001b[0m\u001b[0;34m]\u001b[0m\u001b[0;34m.\u001b[0m\u001b[0mcount\u001b[0m\u001b[0;34m(\u001b[0m\u001b[0;34m)\u001b[0m\u001b[0;34m\u001b[0m\u001b[0;34m\u001b[0m\u001b[0m\n",
            "\u001b[0;32m/usr/local/lib/python3.10/dist-packages/pandas/core/series.py\u001b[0m in \u001b[0;36m__getitem__\u001b[0;34m(self, key)\u001b[0m\n\u001b[1;32m    979\u001b[0m \u001b[0;34m\u001b[0m\u001b[0m\n\u001b[1;32m    980\u001b[0m         \u001b[0;32melif\u001b[0m \u001b[0mkey_is_scalar\u001b[0m\u001b[0;34m:\u001b[0m\u001b[0;34m\u001b[0m\u001b[0;34m\u001b[0m\u001b[0m\n\u001b[0;32m--> 981\u001b[0;31m             \u001b[0;32mreturn\u001b[0m \u001b[0mself\u001b[0m\u001b[0;34m.\u001b[0m\u001b[0m_get_value\u001b[0m\u001b[0;34m(\u001b[0m\u001b[0mkey\u001b[0m\u001b[0;34m)\u001b[0m\u001b[0;34m\u001b[0m\u001b[0;34m\u001b[0m\u001b[0m\n\u001b[0m\u001b[1;32m    982\u001b[0m \u001b[0;34m\u001b[0m\u001b[0m\n\u001b[1;32m    983\u001b[0m         \u001b[0;32mif\u001b[0m \u001b[0mis_hashable\u001b[0m\u001b[0;34m(\u001b[0m\u001b[0mkey\u001b[0m\u001b[0;34m)\u001b[0m\u001b[0;34m:\u001b[0m\u001b[0;34m\u001b[0m\u001b[0;34m\u001b[0m\u001b[0m\n",
            "\u001b[0;32m/usr/local/lib/python3.10/dist-packages/pandas/core/series.py\u001b[0m in \u001b[0;36m_get_value\u001b[0;34m(self, label, takeable)\u001b[0m\n\u001b[1;32m   1087\u001b[0m \u001b[0;34m\u001b[0m\u001b[0m\n\u001b[1;32m   1088\u001b[0m         \u001b[0;31m# Similar to Index.get_value, but we do not fall back to positional\u001b[0m\u001b[0;34m\u001b[0m\u001b[0;34m\u001b[0m\u001b[0m\n\u001b[0;32m-> 1089\u001b[0;31m         \u001b[0mloc\u001b[0m \u001b[0;34m=\u001b[0m \u001b[0mself\u001b[0m\u001b[0;34m.\u001b[0m\u001b[0mindex\u001b[0m\u001b[0;34m.\u001b[0m\u001b[0mget_loc\u001b[0m\u001b[0;34m(\u001b[0m\u001b[0mlabel\u001b[0m\u001b[0;34m)\u001b[0m\u001b[0;34m\u001b[0m\u001b[0;34m\u001b[0m\u001b[0m\n\u001b[0m\u001b[1;32m   1090\u001b[0m         \u001b[0;32mreturn\u001b[0m \u001b[0mself\u001b[0m\u001b[0;34m.\u001b[0m\u001b[0mindex\u001b[0m\u001b[0;34m.\u001b[0m\u001b[0m_get_values_for_loc\u001b[0m\u001b[0;34m(\u001b[0m\u001b[0mself\u001b[0m\u001b[0;34m,\u001b[0m \u001b[0mloc\u001b[0m\u001b[0;34m,\u001b[0m \u001b[0mlabel\u001b[0m\u001b[0;34m)\u001b[0m\u001b[0;34m\u001b[0m\u001b[0;34m\u001b[0m\u001b[0m\n\u001b[1;32m   1091\u001b[0m \u001b[0;34m\u001b[0m\u001b[0m\n",
            "\u001b[0;32m/usr/local/lib/python3.10/dist-packages/pandas/core/indexes/base.py\u001b[0m in \u001b[0;36mget_loc\u001b[0;34m(self, key, method, tolerance)\u001b[0m\n\u001b[1;32m   3802\u001b[0m                 \u001b[0;32mreturn\u001b[0m \u001b[0mself\u001b[0m\u001b[0;34m.\u001b[0m\u001b[0m_engine\u001b[0m\u001b[0;34m.\u001b[0m\u001b[0mget_loc\u001b[0m\u001b[0;34m(\u001b[0m\u001b[0mcasted_key\u001b[0m\u001b[0;34m)\u001b[0m\u001b[0;34m\u001b[0m\u001b[0;34m\u001b[0m\u001b[0m\n\u001b[1;32m   3803\u001b[0m             \u001b[0;32mexcept\u001b[0m \u001b[0mKeyError\u001b[0m \u001b[0;32mas\u001b[0m \u001b[0merr\u001b[0m\u001b[0;34m:\u001b[0m\u001b[0;34m\u001b[0m\u001b[0;34m\u001b[0m\u001b[0m\n\u001b[0;32m-> 3804\u001b[0;31m                 \u001b[0;32mraise\u001b[0m \u001b[0mKeyError\u001b[0m\u001b[0;34m(\u001b[0m\u001b[0mkey\u001b[0m\u001b[0;34m)\u001b[0m \u001b[0;32mfrom\u001b[0m \u001b[0merr\u001b[0m\u001b[0;34m\u001b[0m\u001b[0;34m\u001b[0m\u001b[0m\n\u001b[0m\u001b[1;32m   3805\u001b[0m             \u001b[0;32mexcept\u001b[0m \u001b[0mTypeError\u001b[0m\u001b[0;34m:\u001b[0m\u001b[0;34m\u001b[0m\u001b[0;34m\u001b[0m\u001b[0m\n\u001b[1;32m   3806\u001b[0m                 \u001b[0;31m# If we have a listlike key, _check_indexing_error will raise\u001b[0m\u001b[0;34m\u001b[0m\u001b[0;34m\u001b[0m\u001b[0m\n",
            "\u001b[0;31mKeyError\u001b[0m: 'Age'"
          ]
        }
      ],
      "source": [
        "import numpy as np\n",
        "import pandas as pd\n",
        "import matplotlib.pyplot as plt\n",
        "\n",
        "\n",
        "# Questions to be answered \n",
        "# 1 What are the most dangerous types of sharks to humans?  \n",
        "#Top 3 sharks mostly reported \n",
        "# White Shark \n",
        "# Tiger Shark \n",
        "# Bull Shark\n",
        "\n",
        "# 2 Are children more likely to be attacked by sharks? \n",
        "# 3 Are shark attacks where sharks were provoked more or less dangerous? \n",
        "# 4 Are certain activities more likely to result in a shark attack? \n",
        "\n",
        "url = \"https://github.com/LinaHu1990/Assignments/raw/main/attacks.csv\"\n",
        "col_names = [\"CaseID\", \"Date\", \"Year\", \"Type\",\"Country\", \"Area\", \"Location\", \"Activity\", \"Name\", \"Sex\", \"Age\", \"Injury\", \"Fatal\", \"Time\", \"Species\", \"1\", \"2\", \"3\", \"4\", \"5\", \"6\", \"7\", \"8\", \"9\"]\n",
        "url = pd.read_csv('https://raw.githubusercontent.com/LinaHu1990/Assignments/main/attacks.csv', names = col_names, encoding = \"ISO-8859-1\")\n",
        "df = pd.DataFrame(url)\n",
        "\n",
        "#identify number of rows and columns \n",
        "#Result gives 25723 rows and 24 columns\n",
        "#remove unnecessary columns\n",
        "#columns that are irrelevant to answer the questions (number 1-9)\n",
        "\n",
        "df4 = df.drop(columns=[\"1\", \"2\", \"3\", \"4\", \"5\", \"6\", \"7\", \"8\", \"9\"]) \n",
        "\n",
        "#remove 1st row as headers are provided\n",
        "df2 = df4.iloc[1:] \n",
        "\n",
        "#Identify and delete rows where all values in column \"Species\"are NAN \n",
        "# 3465 rows left\n",
        "\n",
        "df1 = df2.dropna(subset=[\"Species\"],how=\"all\")\n",
        "\n",
        "#Question 1 What are the most dangerous types of sharks to humans?  \n",
        "\n",
        "#Explore data values in column \"Species\"\n",
        "count_unique = df4.loc[:,\"Species\"].nunique() #1549 unique values\n",
        "Species = df2[\"Species\"].value_counts()\n",
        "\n",
        "\n",
        "#print(Species)\n",
        "\n",
        "\n",
        "\n",
        "\n",
        "\n",
        "# Question 2 Are children more likely to be attacked by sharks? \n",
        "# Children age <18 \n",
        "# Identify and delete rows where all values in column \"Age\"are NAN \n",
        "# 3472 rows left\n",
        "\n",
        "dfQ2 = df2.dropna(subset=[\"Age\"],how=\"all\")\n",
        "\n",
        "#  57 rows are not a number \n",
        "\n",
        "Age = pd.to_numeric(dfQ2[\"Age\"], errors = \"coerce\")\n",
        "non_numeric_values = Age[~Age.notna()]\n",
        "\n",
        "print(non_numeric_values['Age'].unique())\n",
        "\n",
        "count_age_lt_18 = Age[Age< 18]['Age'].count()\n",
        "\n",
        "\n",
        "print(non_numeric_values)\n",
        "      \n",
        "# Question 3 Are shark attacks where sharks were provoked more or less dangerous? \n",
        "\n",
        "\n",
        "\n",
        "\n",
        "\n",
        "\n",
        "\n",
        "\n",
        "\n",
        "\n",
        "\n",
        "\n",
        "\n",
        "\n",
        "\n",
        " \n",
        "\n",
        "#count number unique values ID = df3.loc[:,\"CaseID\"].nunique()\n",
        "# count empty values df.loc[:,'datetime'].isnull().sum()\n",
        "# find unique values in column df3.loc[:,\"Type\"].unique()\n",
        "#new_column_names = [\"Case ID\", \"Date\", \"Year\", \"Type\", \"Country\", \"place\", \"card\"]\n",
        "#df1 = df.set_index(\"Case Number\")\n",
        "#df.drop(columns=[\"date\"])\n",
        "#df.columns = new_column_names\n",
        "#df.drop(columns=['city','number_of_products','discount_card_used']) \n",
        "# pd.set_option('display.max_rows', 20)\n",
        "# pd.set_option('display.min_rows', 20)\n",
        "# pd.set_option('display.max_columns', 5)\n",
        "# albums2 = albums.set_index(\"Album\")\n",
        "# display(albums2.sort_index())\n",
        "# df.columns = new_column_names\n",
        "# casting column to datatype df.loc[:,'total_amount'].astype('float')\n",
        "# count frequency df.loc[:,'time_spent'].value_counts()\n",
        "#df2 = df.loc[:, ~df.columns.str.contains('^Unnamed')]\n",
        "# find row that contain_values = df[df['month'].str.contains('Ju')]\n",
        "# head() and tail(): These functions allow you to inspect the first few rows (head()) or the last few rows (tail()) of your dataframe. They can give you a quick overview of the data.\n",
        "# shape: This attribute provides the dimensions of the dataframe, indicating the number of rows and columns.\n",
        "# info(): This method provides a summary of the dataframe, including the column names, data types, and non-null values. It can be useful for understanding the structure and completeness of your data.\n",
        "# describe(): This method generates descriptive statistics for each numerical column in the dataframe, such as count, mean, standard deviation, minimum, and maximum values. It helps to get a sense of the distribution and basic statistics of the data.\n",
        "# columns: This attribute returns a list of column names in the dataframe.\n",
        "# dtypes: This attribute provides the data types of each column in the dataframe.\n",
        "# isnull(): This method returns a boolean dataframe indicating which values are null or missing in the original dataframe. It can be useful for identifying missing data.\n",
        "# value_counts(): This method calculates the frequency of unique values in a specific column. It is handy for understanding the distribution of categorical variables.\n",
        "# groupby(): This method allows you to group the dataframe by one or more columns and perform aggregate functions, such as sum, mean, count, etc., on the grouped data.\n",
        "# en dit is hoe de string contain functie werkt! Je mag natuurlijk ook andere functies gebruiken\n",
        "# Maak een voorbeeld-dataframe\n",
        "#data = {'Animal': ['cat', 'dog', 'elephant', 'tiger', 'lion'],\n",
        "#        'Color': ['black', 'brown', 'gray', 'yellow', 'brown']}\n",
        "#df = pd.DataFrame(data)\n",
        "# Controleren of een string voorkomt in de Animal-kolom\n",
        "# contains_cat = df['Animal'].str.contains('cat')\n",
        "#def shark_type():\n",
        "#  for values in Species:\n",
        "#    values = values.split(\" \")\n",
        "#    if len(values) == 2: \n",
        "#      print(values)\n",
        "#shark_type()\n",
        "\n",
        "\n",
        "\n",
        "\n",
        "\n",
        "\n",
        "\n"
      ]
    },
    {
      "cell_type": "code",
      "source": [],
      "metadata": {
        "id": "u02jzaKBEMJS"
      },
      "execution_count": null,
      "outputs": []
    },
    {
      "cell_type": "code",
      "source": [],
      "metadata": {
        "id": "MIpSNrm9EMof"
      },
      "execution_count": null,
      "outputs": []
    },
    {
      "cell_type": "code",
      "source": [],
      "metadata": {
        "id": "WTAqE58e52Tv"
      },
      "execution_count": null,
      "outputs": []
    },
    {
      "cell_type": "code",
      "source": [],
      "metadata": {
        "id": "1lLDmhGg52n7"
      },
      "execution_count": null,
      "outputs": []
    },
    {
      "cell_type": "code",
      "source": [
        "   "
      ],
      "metadata": {
        "id": "1LXZn-Eu3Khn"
      },
      "execution_count": null,
      "outputs": []
    },
    {
      "cell_type": "code",
      "source": [],
      "metadata": {
        "id": "pteThRTR8bXc"
      },
      "execution_count": null,
      "outputs": []
    }
  ]
}