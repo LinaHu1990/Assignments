{
  "nbformat": 4,
  "nbformat_minor": 0,
  "metadata": {
    "colab": {
      "provenance": [],
      "authorship_tag": "ABX9TyO9JqylQDHJaxbSVQinx9n/",
      "include_colab_link": true
    },
    "kernelspec": {
      "name": "python3",
      "display_name": "Python 3"
    },
    "language_info": {
      "name": "python"
    }
  },
  "cells": [
    {
      "cell_type": "markdown",
      "metadata": {
        "id": "view-in-github",
        "colab_type": "text"
      },
      "source": [
        "<a href=\"https://colab.research.google.com/github/LinaHu1990/Assignments/blob/main/Shark_Attack_Assignment.ipynb\" target=\"_parent\"><img src=\"https://colab.research.google.com/assets/colab-badge.svg\" alt=\"Open In Colab\"/></a>"
      ]
    },
    {
      "cell_type": "code",
      "execution_count": null,
      "metadata": {
        "id": "tDALTrFbSQTG",
        "colab": {
          "base_uri": "https://localhost:8080/"
        },
        "outputId": "b0f13511-a603-473e-b001-fb98942247cf"
      },
      "outputs": [
        {
          "output_type": "stream",
          "name": "stdout",
          "text": [
            "['White shark' '2 m shark' 'Tiger shark, 3m' ... \"12' tiger shark\"\n",
            " 'Blue pointers'\n",
            " 'Said to involve a grey nurse shark that leapt out of the water and  seized the boy but species identification is questionable']\n"
          ]
        }
      ],
      "source": [
        "import numpy as np\n",
        "import pandas as pd\n",
        "import matplotlib.pyplot as plt\n",
        "\n",
        "\n",
        "# Questions to be answered \n",
        "# 1 What are the most dangerous types of sharks to humans?  \n",
        "#Top 3 sharks mostly reported \n",
        "# White Shark \n",
        "# Tiger Shark \n",
        "# Bull Shark\n",
        "\n",
        "# 2 Are children more likely to be attacked by sharks? \n",
        "# 3 Are shark attacks where sharks were provoked more or less dangerous? \n",
        "# 4 Are certain activities more likely to result in a shark attack? \n",
        "\n",
        "url = \"https://github.com/LinaHu1990/Assignments/raw/main/attacks.csv\"\n",
        "col_names = [\"CaseID\", \"Date\", \"Year\", \"Type\",\"Country\", \"Area\", \"Location\", \"Activity\", \"Name\", \"Sex\", \"Age\", \"Injury\", \"Fatal\", \"Time\", \"Species\", \"1\", \"2\", \"3\", \"4\", \"5\", \"6\", \"7\", \"8\", \"9\"]\n",
        "url = pd.read_csv('https://raw.githubusercontent.com/LinaHu1990/Assignments/main/attacks.csv', names = col_names, encoding = \"ISO-8859-1\")\n",
        "df = pd.DataFrame(url)\n",
        "\n",
        "#identify number of rows and columns \n",
        "\n",
        "#Result gives 25723 rows and 24 columns\n",
        "#Identify and delete rows where all values in column \"Species\"are NAN \n",
        "# 3465 rows left\n",
        "\n",
        "df1 = df.dropna(subset=[\"Species\"],how=\"all\")\n",
        "\n",
        "#remove 1st row as headers are provided\n",
        "df2 = df1.iloc[1:] \n",
        "\n",
        "#remove unnecessary columns\n",
        "#columns that are irrelevant to answer the questions (number 1-9)\n",
        "\n",
        "df4 = df2.drop(columns=[\"1\", \"2\", \"3\", \"4\", \"5\", \"6\", \"7\", \"8\", \"9\"]) \n",
        "\n",
        "#Question 1 What are the most dangerous types of sharks to humans?  \n",
        "\n",
        "#Explore data values in column \"Species\"\n",
        "count_unique = df4.loc[:,\"Species\"].nunique() #1549 unique values\n",
        "unique = df4.Species.unique()\n",
        "\n",
        "print(unique)\n",
        "\n",
        "#Find out what types are most frequently reported based on \"keywords\" \n",
        "#column species contain multiple data descriptions - how to handle? String contains? \n",
        "#how do I find keyword that occurs most frequently? \n",
        "\n",
        "#439 White + 231 white\n",
        "#237 Tiger + 48 tiger\n",
        "\n",
        "contains_White = df4[\"Species\"].astype(str).str.contains(\"White\")\n",
        "contains_white = df4[\"Species\"].astype(str).str.contains(\"white\")\n",
        "contains_Tiger = df4[\"Species\"].astype(str).str.contains(\"Tiger\")\n",
        "contains_tiger = df4[\"Species\"].astype(str).str.contains(\"tiger\")\n",
        "contains_lemon = df4[\"Species\"].astype(str).str.contains(\"bull\")\n",
        "\n",
        "# Question 2 Are children more likely to be attacked by sharks? \n",
        "# Children age <18 \n",
        "\n",
        "\n",
        "#Age contain multiple data descriptions - how to handle? \n",
        "#Convert age column to Integer \n",
        "\n",
        "# Question 3 Are shark attacks where sharks were provoked more or less dangerous? \n",
        "\n",
        "\n",
        "\n",
        "\n",
        "\n",
        "\n",
        "\n",
        "\n",
        "\n",
        "\n",
        "\n",
        "\n",
        "\n",
        "\n",
        "\n",
        " \n",
        "\n",
        "#count number unique values ID = df3.loc[:,\"CaseID\"].nunique()\n",
        "# count empty values df.loc[:,'datetime'].isnull().sum()\n",
        "# find unique values in column df3.loc[:,\"Type\"].unique()\n",
        "#new_column_names = [\"Case ID\", \"Date\", \"Year\", \"Type\", \"Country\", \"place\", \"card\"]\n",
        "#df1 = df.set_index(\"Case Number\")\n",
        "#df.drop(columns=[\"date\"])\n",
        "#df.columns = new_column_names\n",
        "#df.drop(columns=['city','number_of_products','discount_card_used']) \n",
        "# pd.set_option('display.max_rows', 20)\n",
        "# pd.set_option('display.min_rows', 20)\n",
        "# pd.set_option('display.max_columns', 5)\n",
        "# albums2 = albums.set_index(\"Album\")\n",
        "# display(albums2.sort_index())\n",
        "# df.columns = new_column_names\n",
        "# casting column to datatype df.loc[:,'total_amount'].astype('float')\n",
        "# count frequency df.loc[:,'time_spent'].value_counts()\n",
        "#df2 = df.loc[:, ~df.columns.str.contains('^Unnamed')]\n",
        "# find row that contain_values = df[df['month'].str.contains('Ju')]\n",
        "# head() and tail(): These functions allow you to inspect the first few rows (head()) or the last few rows (tail()) of your dataframe. They can give you a quick overview of the data.\n",
        "# shape: This attribute provides the dimensions of the dataframe, indicating the number of rows and columns.\n",
        "# info(): This method provides a summary of the dataframe, including the column names, data types, and non-null values. It can be useful for understanding the structure and completeness of your data.\n",
        "# describe(): This method generates descriptive statistics for each numerical column in the dataframe, such as count, mean, standard deviation, minimum, and maximum values. It helps to get a sense of the distribution and basic statistics of the data.\n",
        "# columns: This attribute returns a list of column names in the dataframe.\n",
        "# dtypes: This attribute provides the data types of each column in the dataframe.\n",
        "# isnull(): This method returns a boolean dataframe indicating which values are null or missing in the original dataframe. It can be useful for identifying missing data.\n",
        "# value_counts(): This method calculates the frequency of unique values in a specific column. It is handy for understanding the distribution of categorical variables.\n",
        "# groupby(): This method allows you to group the dataframe by one or more columns and perform aggregate functions, such as sum, mean, count, etc., on the grouped data.\n",
        "# en dit is hoe de string contain functie werkt! Je mag natuurlijk ook andere functies gebruiken\n",
        "# Maak een voorbeeld-dataframe\n",
        "#data = {'Animal': ['cat', 'dog', 'elephant', 'tiger', 'lion'],\n",
        "#        'Color': ['black', 'brown', 'gray', 'yellow', 'brown']}\n",
        "#df = pd.DataFrame(data)\n",
        "# Controleren of een string voorkomt in de Animal-kolom\n",
        "# contains_cat = df['Animal'].str.contains('cat')\n",
        "\n",
        "\n",
        "\n",
        "\n",
        "\n",
        "\n",
        "\n"
      ]
    },
    {
      "cell_type": "code",
      "source": [],
      "metadata": {
        "id": "WTAqE58e52Tv"
      },
      "execution_count": null,
      "outputs": []
    },
    {
      "cell_type": "code",
      "source": [],
      "metadata": {
        "id": "1lLDmhGg52n7"
      },
      "execution_count": null,
      "outputs": []
    },
    {
      "cell_type": "code",
      "source": [
        "   "
      ],
      "metadata": {
        "id": "1LXZn-Eu3Khn"
      },
      "execution_count": null,
      "outputs": []
    },
    {
      "cell_type": "code",
      "source": [],
      "metadata": {
        "id": "pteThRTR8bXc"
      },
      "execution_count": null,
      "outputs": []
    }
  ]
}